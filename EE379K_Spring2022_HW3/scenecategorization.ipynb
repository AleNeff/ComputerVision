{
 "cells": [
  {
   "cell_type": "code",
   "execution_count": 121,
   "metadata": {},
   "outputs": [
    {
     "data": {
      "text/plain": [
       "array([44, 58, 45, ..., 92, 88, 76])"
      ]
     },
     "execution_count": 121,
     "metadata": {},
     "output_type": "execute_result"
    }
   ],
   "source": [
    "import numpy as np\n",
    "import sklearn\n",
    "from sklearn.cluster import KMeans\n",
    "\n",
    "X_train = np.load(\"./scene_categorization/train_D.npy\", allow_pickle=True)\n",
    "Y_train = np.load(\"./scene_categorization/train_gs.npy\", allow_pickle=True)\n",
    "X_train_clusters = np.concatenate([x for x in X_train], axis=0)\n",
    "X_train_clusters = X_train_clusters\n",
    "np.random.shuffle(X_train_clusters)\n",
    "# computing word dictionary on 50,000 shuffled points instead of 413,971, took about 2 minutes\n",
    "kclusters = KMeans(n_clusters = 100, random_state=0, max_iter = 300).fit(X_train_clusters[:50000])\n",
    "kclusters.labels_"
   ]
  },
  {
   "cell_type": "code",
   "execution_count": 122,
   "metadata": {},
   "outputs": [
    {
     "name": "stdout",
     "output_type": "stream",
     "text": [
      "(1888,)\n"
     ]
    }
   ],
   "source": [
    "# calculate histogram for each image in training set\n",
    "print(X_train.shape)\n",
    "im_hists = []\n",
    "for im_feats in X_train:\n",
    "  clusters = kclusters.predict(im_feats)\n",
    "  hist = np.zeros(shape=(100))\n",
    "  for centroid in clusters:\n",
    "    hist[centroid] += 1\n",
    "  im_hists.append(hist)"
   ]
  },
  {
   "cell_type": "code",
   "execution_count": 123,
   "metadata": {},
   "outputs": [
    {
     "name": "stdout",
     "output_type": "stream",
     "text": [
      "Confusion Matrix:\n",
      "[[62  0 29  6 12 36  3 16]\n",
      " [ 1 92  1  7  6  6  8  4]\n",
      " [17  0 50  2  2  4  1  6]\n",
      " [ 0  0  1 48  1  1 10 14]\n",
      " [ 7  2  3  4 57 12 11  9]\n",
      " [12  4  8 11 13 38  7 12]\n",
      " [ 1  1  6 13  9  0 55 14]\n",
      " [ 0  1  2  9  0  3  5 25]]\n",
      "\n",
      "Classification Report:\n",
      "              precision    recall  f1-score   support\n",
      "\n",
      "           1       0.62      0.38      0.47       164\n",
      "           2       0.92      0.74      0.82       125\n",
      "           3       0.50      0.61      0.55        82\n",
      "           4       0.48      0.64      0.55        75\n",
      "           5       0.57      0.54      0.56       105\n",
      "           6       0.38      0.36      0.37       105\n",
      "           7       0.55      0.56      0.55        99\n",
      "           8       0.25      0.56      0.34        45\n",
      "\n",
      "    accuracy                           0.53       800\n",
      "   macro avg       0.53      0.55      0.53       800\n",
      "weighted avg       0.57      0.53      0.54       800\n",
      "\n"
     ]
    }
   ],
   "source": [
    "from sklearn.neighbors import KNeighborsClassifier\n",
    "from sklearn.metrics import classification_report, confusion_matrix\n",
    "\n",
    "# train classifier on the training images' histograms with their labels\n",
    "classifier = KNeighborsClassifier(n_neighbors=6).fit(im_hists, Y_train.ravel())\n",
    "X_test = np.load(\"./scene_categorization/test_D.npy\", allow_pickle=True)\n",
    "Y_test = np.load(\"./scene_categorization/test_gs.npy\", allow_pickle=True)\n",
    "\n",
    "# build histograms\n",
    "test_im_hists = []\n",
    "for test_im_feats in X_test:\n",
    "  test_clusters = kclusters.predict(test_im_feats)\n",
    "  hist = np.zeros(shape=(100))\n",
    "  for centroid in test_clusters:\n",
    "    hist[centroid] += 1\n",
    "  test_im_hists.append(hist)\n",
    "\n",
    "#output classification scores and confusion matrix\n",
    "preds = classifier.predict(test_im_hists)\n",
    "print(\"Confusion Matrix:\")\n",
    "print(confusion_matrix(preds, Y_test.ravel()))\n",
    "print()\n",
    "print(\"Classification Report:\")\n",
    "print(classification_report(preds, Y_test.ravel()))"
   ]
  }
 ],
 "metadata": {
  "interpreter": {
   "hash": "a95d1da19719bba8522def5d9d2a10ce267a3709087d5a597b5a8446eebf3993"
  },
  "kernelspec": {
   "display_name": "Python 3.9.7 64-bit",
   "language": "python",
   "name": "python3"
  },
  "language_info": {
   "codemirror_mode": {
    "name": "ipython",
    "version": 3
   },
   "file_extension": ".py",
   "mimetype": "text/x-python",
   "name": "python",
   "nbconvert_exporter": "python",
   "pygments_lexer": "ipython3",
   "version": "3.9.7"
  },
  "orig_nbformat": 4
 },
 "nbformat": 4,
 "nbformat_minor": 2
}
